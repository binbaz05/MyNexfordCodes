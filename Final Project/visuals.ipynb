{
 "cells": [
  {
   "cell_type": "code",
   "execution_count": null,
   "id": "7b17d09e-5d48-49cc-99ac-08d4f9f3848e",
   "metadata": {},
   "outputs": [],
   "source": [
    "import pandas as pd\n",
    "\n",
    "# Load the CSV file\n",
    "df = pd.read_csv('user_data.csv')\n",
    "\n",
    "# Display the first few rows\n",
    "print(\"Data Overview:\")\n",
    "print(df.head())\n",
    "\n",
    "# Perform basic analysis\n",
    "print(\"\\nSummary Statistics:\")\n",
    "print(df.describe())\n",
    "\n",
    "# Visualization examples (optional)\n",
    "import matplotlib.pyplot as plt\n",
    "\n",
    "# Plot: Ages with the highest income\n",
    "plt.figure(figsize=(8, 6))\n",
    "df.groupby('Age')['Total Income'].mean().plot(kind='bar', color='skyblue')\n",
    "plt.title('Average Income by Age')\n",
    "plt.xlabel('Age')\n",
    "plt.ylabel('Average Income')\n",
    "plt.show()\n",
    "\n",
    "# Plot: Gender distribution across spending categories\n",
    "spending_categories = ['Utilities', 'Entertainment', 'School Fees', 'Shopping', 'Healthcare']\n",
    "df.groupby('Gender')[spending_categories].sum().plot(kind='bar', stacked=True, figsize=(10, 6))\n",
    "plt.title('Spending Distribution by Gender')\n",
    "plt.xlabel('Gender')\n",
    "plt.ylabel('Total Spending')\n",
    "plt.legend(title=\"Expense Categories\")\n",
    "plt.show()\n"
   ]
  }
 ],
 "metadata": {
  "kernelspec": {
   "display_name": "Python 3 (ipykernel)",
   "language": "python",
   "name": "python3"
  },
  "language_info": {
   "codemirror_mode": {
    "name": "ipython",
    "version": 3
   },
   "file_extension": ".py",
   "mimetype": "text/x-python",
   "name": "python",
   "nbconvert_exporter": "python",
   "pygments_lexer": "ipython3",
   "version": "3.11.6"
  }
 },
 "nbformat": 4,
 "nbformat_minor": 5
}
